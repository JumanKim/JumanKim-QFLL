{
 "cells": [
  {
   "cell_type": "code",
   "execution_count": null,
   "metadata": {},
   "outputs": [
    {
     "data": {
      "application/vnd.jupyter.widget-view+json": {
       "model_id": "23c3a4315da04eaf9d852142e23957da",
       "version_major": 2,
       "version_minor": 0
      },
      "text/plain": [
       "HBox(children=(IntProgress(value=0, max=1), HTML(value='')))"
      ]
     },
     "metadata": {},
     "output_type": "display_data"
    },
    {
     "name": "stdout",
     "output_type": "stream",
     "text": [
      "\n"
     ]
    },
    {
     "data": {
      "application/vnd.jupyter.widget-view+json": {
       "model_id": "6e6379d925c546b2998c29b5da97f836",
       "version_major": 2,
       "version_minor": 0
      },
      "text/plain": [
       "HBox(children=(IntProgress(value=0, max=1), HTML(value='')))"
      ]
     },
     "metadata": {},
     "output_type": "display_data"
    },
    {
     "name": "stdout",
     "output_type": "stream",
     "text": [
      "\n"
     ]
    },
    {
     "data": {
      "application/vnd.jupyter.widget-view+json": {
       "model_id": "8472bd2e482b4159a647c3be3e079a55",
       "version_major": 2,
       "version_minor": 0
      },
      "text/plain": [
       "HBox(children=(IntProgress(value=0, max=1), HTML(value='')))"
      ]
     },
     "metadata": {},
     "output_type": "display_data"
    },
    {
     "name": "stdout",
     "output_type": "stream",
     "text": [
      "\n"
     ]
    },
    {
     "data": {
      "application/vnd.jupyter.widget-view+json": {
       "model_id": "afdd22f4da94406bafd70fd9de1e888e",
       "version_major": 2,
       "version_minor": 0
      },
      "text/plain": [
       "HBox(children=(IntProgress(value=0, max=1), HTML(value='')))"
      ]
     },
     "metadata": {},
     "output_type": "display_data"
    },
    {
     "name": "stdout",
     "output_type": "stream",
     "text": [
      "\n"
     ]
    },
    {
     "data": {
      "application/vnd.jupyter.widget-view+json": {
       "model_id": "0595cbea853844f2b4302ce969ca52e2",
       "version_major": 2,
       "version_minor": 0
      },
      "text/plain": [
       "HBox(children=(IntProgress(value=0, max=1), HTML(value='')))"
      ]
     },
     "metadata": {},
     "output_type": "display_data"
    },
    {
     "name": "stdout",
     "output_type": "stream",
     "text": [
      "\n"
     ]
    },
    {
     "data": {
      "application/vnd.jupyter.widget-view+json": {
       "model_id": "030b34dcfdca445c8b955719cf324d6b",
       "version_major": 2,
       "version_minor": 0
      },
      "text/plain": [
       "HBox(children=(IntProgress(value=0, max=1), HTML(value='')))"
      ]
     },
     "metadata": {},
     "output_type": "display_data"
    },
    {
     "name": "stdout",
     "output_type": "stream",
     "text": [
      "\n"
     ]
    },
    {
     "data": {
      "application/vnd.jupyter.widget-view+json": {
       "model_id": "14a6fb0df6084755b157c8b7d2711d24",
       "version_major": 2,
       "version_minor": 0
      },
      "text/plain": [
       "HBox(children=(IntProgress(value=0, max=1), HTML(value='')))"
      ]
     },
     "metadata": {},
     "output_type": "display_data"
    },
    {
     "name": "stdout",
     "output_type": "stream",
     "text": [
      "\n"
     ]
    },
    {
     "data": {
      "application/vnd.jupyter.widget-view+json": {
       "model_id": "ec179e32206d450c971b38efcfff7653",
       "version_major": 2,
       "version_minor": 0
      },
      "text/plain": [
       "HBox(children=(IntProgress(value=0, max=10), HTML(value='')))"
      ]
     },
     "metadata": {},
     "output_type": "display_data"
    },
    {
     "name": "stdout",
     "output_type": "stream",
     "text": [
      "\n"
     ]
    }
   ],
   "source": [
    "%matplotlib inline\n",
    "import dynamical_barrier as db\n",
    "import numpy as np\n",
    "from matplotlib import pyplot as plt\n",
    "from tqdm import tnrange,tqdm\n",
    "a=3.\n",
    "b=4.8\n",
    "a1=3.\n",
    "b1=1.945\n",
    "c=0.9\n",
    "k = np.sqrt(np.absolute(a**2-b**2))\n",
    "focdist=0.35\n",
    "cut_angle=np.pi/2.\n",
    "Penrose=db.geometry(a,b,a1,b1,c,focdist,cut_angle)\n",
    "def reflections(irayset,count):\n",
    "    for j in range(count):\n",
    "        for i in range(0,len(irayset),1):\n",
    "            fray=Penrose.reflected_ray(irayset[i])\n",
    "            for m in range(4):\n",
    "                irayset[i][m]=fray[m]\n",
    "    return irayset\n",
    "def new_triple(dataset):\n",
    "    rayset=Penrose.IC_real(dataset)\n",
    "    label=np.ones(len(rayset))\n",
    "    DB_original=[]\n",
    "    for i in range(len(rayset)):\n",
    "        ang_diff=Penrose.nangle_pt(rayset[i][0],rayset[i][1],rayset[i][3])-rayset[i][2]\n",
    "        DB_original.append(Penrose.Dynamical_Barrier(rayset[i][0],rayset[i][1],ang_diff,rayset[i][3]))\n",
    "    DB=np.zeros(len(rayset))\n",
    "    for j in range(Nmax):\n",
    "        index=[]\n",
    "        frayset=reflections(rayset,reflection_number)\n",
    "        for i in range(len(rayset)):\n",
    "            fang_diff=Penrose.nangle_pt(frayset[i][0],frayset[i][1],frayset[i][3])-frayset[i][2]\n",
    "            DB[i]=Penrose.Dynamical_Barrier(frayset[i][0],frayset[i][1],fang_diff,frayset[i][3])\n",
    "            if (DB[i]!=DB_original[i] and label[i]==1 and DB_original[i]==1):\n",
    "                index.append(i)\n",
    "                label[i]=label[i]-1\n",
    "            for m in range(4):\n",
    "                rayset[i][m]=frayset[i][m]\n",
    "        if(len(index)==1):\n",
    "            break\n",
    "        else:\n",
    "            index=np.arange(triple_count)\n",
    "    if(index[0]>0 and index[0]<len(rayset)-1):\n",
    "        result=[np.array(dataset[index[0]-1]),np.array(dataset[index[0]]),np.array(dataset[index[0]+1]),index[0]]\n",
    "    elif(index[0]==0):\n",
    "        result=[np.array(dataset[index[0]]),np.array(dataset[index[0]+1]),np.array(dataset[index[0]+2]),index[0]]\n",
    "    elif(index[0]==len(rayset)-1):\n",
    "        result=[np.array(dataset[index[0]-2]),np.array(dataset[index[0]-1]),np.array(dataset[index[0]]),index[0]]\n",
    "    return result\n",
    "\n",
    "def DBcolor(DB):\n",
    "    if DB==1:\n",
    "        return 'r'\n",
    "    if DB==2:\n",
    "        return 'b'\n",
    "    if DB==3:\n",
    "        return 'g'\n",
    "    if DB==4:\n",
    "        return 'k'\n",
    "def reduce_size(dataset):\n",
    "    triple=new_triple(dataset)\n",
    "    while(np.abs(dataset[-1][0]-dataset[0][0])>0.005 or np.abs(dataset[-1][1]-dataset[0][1])>0.005):\n",
    "        dataset=[triple[0]+i/triple_count*(triple[2]-triple[0]) for i in range(triple_count)]\n",
    "        triple=new_triple(dataset)\n",
    "    if (triple[3]==0):\n",
    "        return dataset,triple[0]\n",
    "    elif(triple[3]==len(dataset)-1):\n",
    "        return dataset,triple[2]\n",
    "    else:\n",
    "        return dataset,triple[1]\n",
    "def Reflection(dataset,reflection_number):\n",
    "    if(reflection_number>0):\n",
    "        irayset=Penrose.IC_real(dataset)\n",
    "        fdataset=[]\n",
    "        frayset=reflections(irayset,reflection_number)\n",
    "        for i in tnrange(len(frayset)):\n",
    "            fang_diff=Penrose.nangle_pt(frayset[i][0],frayset[i][1],frayset[i][3])-frayset[i][2]\n",
    "            data=[Penrose.eta(frayset[i][0],frayset[i][1],frayset[i][3])/Penrose.eta(6,0,14),np.sin(fang_diff)]\n",
    "            fdataset.append(np.array(data))\n",
    "        return np.array(fdataset)\n",
    "    else:\n",
    "        dataset.T[1]=-dataset.T[1]\n",
    "        irayset=Penrose.IC_real(dataset)\n",
    "        fdataset=[]\n",
    "        frayset=reflections(irayset,-reflection_number)\n",
    "        for i in tnrange(len(frayset)):\n",
    "            fang_diff=Penrose.nangle_pt(frayset[i][0],frayset[i][1],frayset[i][3])-frayset[i][2]\n",
    "            data=[Penrose.eta(frayset[i][0],frayset[i][1],frayset[i][3])/Penrose.eta(6,0,14),np.sin(fang_diff)]\n",
    "            fdataset.append(np.array(data))\n",
    "        fdataset=np.array(fdataset)\n",
    "        fdataset.T[1]=-fdataset.T[1]\n",
    "        return fdataset \n",
    "\n",
    "fixed_iray=[-0.9,b**2/np.sqrt(a**2+b**2),np.pi,9]\n",
    "init_ang_diff=0\n",
    "fixed_idata=[Penrose.eta(fixed_iray[0],fixed_iray[1],fixed_iray[3])/Penrose.eta(0,0,14),np.sin(init_ang_diff)]\n",
    "fixed_idata=Reflection(np.array([np.array(fixed_idata)]),0)\n",
    "epsilon=0.00001\n",
    "Dx=fixed_idata[0][0]\n",
    "yx=fixed_idata[0][1]\n",
    "fixed_manifold=[]\n",
    "fixed_manifold.append(fixed_idata[0])\n",
    "for j in range(6):\n",
    "    fixed_fdata=Reflection(fixed_idata,-1)\n",
    "    fixed_manifold.append(fixed_fdata[0])\n",
    "    fixed_idata=fixed_fdata\n",
    "fixed_manifold=np.array(fixed_manifold)\n",
    "\n",
    "def reflection(dataset,reflection_number):\n",
    "    if(reflection_number>0):\n",
    "        print('working')\n",
    "        irayset=Penrose.IC_real(dataset)\n",
    "        fdataset=[]\n",
    "        frayset=reflections(irayset,reflection_number)\n",
    "        for i in range(len(frayset)):\n",
    "            fang_diff=Penrose.nangle_pt(frayset[i][0],frayset[i][1],frayset[i][3])-frayset[i][2]\n",
    "            data=[Penrose.eta(frayset[i][0],frayset[i][1],frayset[i][3])/Penrose.eta(6,0,14),np.sin(fang_diff)]\n",
    "            fdataset.append(np.array(data))\n",
    "            dist=np.sqrt((data[0]-Dx)**2+(data[1]-yx)**2)\n",
    "            if(dist<epsilon):\n",
    "                print(i)\n",
    "        return np.array(fdataset)\n",
    "    else:\n",
    "        print('working')\n",
    "        dataset.T[1]=-dataset.T[1]\n",
    "        irayset=Penrose.IC_real(dataset)\n",
    "        fdataset=[]\n",
    "        frayset=reflections(irayset,-reflection_number)\n",
    "        for i in range(len(frayset)):\n",
    "            fang_diff=Penrose.nangle_pt(frayset[i][0],frayset[i][1],frayset[i][3])-frayset[i][2]\n",
    "            data=[Penrose.eta(frayset[i][0],frayset[i][1],frayset[i][3])/Penrose.eta(6,0,14),np.sin(fang_diff)]\n",
    "            fdataset.append(np.array(data))\n",
    "            dist=np.sqrt((data[0]-Dx)**2+(-data[1]-yx)**2)\n",
    "            if(dist<epsilon):\n",
    "                print(i)\n",
    "        fdataset=np.array(fdataset)\n",
    "        fdataset.T[1]=-fdataset.T[1]\n",
    "        return fdataset            \n",
    "    \n",
    "epsilonlist=[0.0001/np.power(10,i) for i in range(10)]\n",
    "temp=[]\n",
    "tempcount=int(1e4)\n",
    "for j in tnrange(len(epsilonlist)):\n",
    "    temp=temp+[np.array([Dx+epsilonlist[j]*np.cos(2*np.pi/tempcount*i),yx+epsilonlist[j]*np.sin(2*np.pi/tempcount*i)]) for i in range(tempcount)]\n",
    "sdataset=np.array(temp)\n",
    "sdataset=Reflection(sdataset,-6)\n",
    "sdataset=np.array(sdataset)\n",
    "udataset=np.array(temp)\n",
    "udataset=Reflection(udataset,6)\n",
    "udataset=np.array(udataset)\n",
    "fig,ax=plt.subplots()\n",
    "ax.scatter(fixed_manifold.T[0],fixed_manifold.T[1],s=50,facecolors='orange')\n",
    "ax.scatter(sdataset.T[0],sdataset.T[1],s=3,facecolors='blue')\n",
    "ax.scatter(udataset.T[0],udataset.T[1],s=3,facecolors='red')\n",
    "ax.set_title('cut width=%.2f,count=%d' % (focdist,len(fixed_manifold)))\n",
    "ax.set_xlim(0.2,0.8)\n",
    "ax.set_ylim(-1.0,1.0)\n",
    "ax.set_xlabel('$\\eta$')\n",
    "ax.set_ylabel('$\\sin(\\chi)$')\n",
    "plt.show()"
   ]
  }
 ],
 "metadata": {
  "kernelspec": {
   "display_name": "Python 3",
   "language": "python",
   "name": "python3"
  },
  "language_info": {
   "codemirror_mode": {
    "name": "ipython",
    "version": 3
   },
   "file_extension": ".py",
   "mimetype": "text/x-python",
   "name": "python",
   "nbconvert_exporter": "python",
   "pygments_lexer": "ipython3",
   "version": "3.7.0"
  }
 },
 "nbformat": 4,
 "nbformat_minor": 2
}
